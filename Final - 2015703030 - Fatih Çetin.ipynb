{
 "cells": [
  {
   "cell_type": "code",
   "execution_count": 2,
   "metadata": {},
   "outputs": [
    {
     "name": "stdout",
     "output_type": "stream",
     "text": [
      "Student Name: Fatih Çetin\n",
      "Student ID: 2015703030\n",
      "Project Name: Midterm 2\n",
      "Project Submission Date: 05/12/2017\n",
      "3 cos(3x) +7.1 sin(2x) +0.3 sin(x) -3 \n"
     ]
    }
   ],
   "source": [
    "#Answer - 1\n",
    "\n",
    "import matplotlib.pyplot as plt\n",
    "import numpy as np\n",
    "\n",
    "print('Student Name: Fatih Çetin')\n",
    "print('Student ID: 2015703030')\n",
    "print('Project Name: Midterm 2')\n",
    "print('Project Submission Date: 05/12/2017')\n",
    "\n",
    "class polynomial(object):\n",
    "    def __init__(self, c, t, v='x'):\n",
    "        self.coeff = c\n",
    "        self.sincos=t\n",
    "        self.v = v\n",
    "    def __repr__(self):\n",
    "        coeff = self.coeff\n",
    "        v = self.v\n",
    "        sincos=self.sincos\n",
    "        s = ''\n",
    "        D = len(coeff)\n",
    "        \n",
    "        first = True\n",
    "        \n",
    "        for i in range(D):\n",
    "            pw = D-i-1\n",
    "            pre = '+' if coeff[i]>0 else ''\n",
    "            if first:\n",
    "                if pre=='+':\n",
    "                    pre = ''\n",
    "                first = False\n",
    "            \n",
    "            if pw == 0:\n",
    "                vname = ''\n",
    "                tname = ''\n",
    "            elif pw == 1:\n",
    "                vname = v\n",
    "                tx='sin' if sincos[i]=='s' else 'cos'\n",
    "                tname =tx+ '(' + vname + ')'+' '\n",
    "            else:\n",
    "                vname = str(pw)+v \n",
    "                tx='sin' if sincos[i]=='s' else 'cos'\n",
    "                tname =tx+ '(' + vname + ')'+' '\n",
    "            if coeff[i] != 0:\n",
    "                s += pre+str(coeff[i])+ ' '+ tname\n",
    "                \n",
    "        return s\n",
    "\n",
    "    \n",
    "    \n",
    "p = polynomial([3, 7.1, 0.3, -3],['c', 's', 's'], 'x')\n",
    "print(p)"
   ]
  },
  {
   "cell_type": "code",
   "execution_count": 5,
   "metadata": {},
   "outputs": [
    {
     "name": "stdout",
     "output_type": "stream",
     "text": [
      "Student Name: Fatih Çetin\n",
      "Student ID: 2015703030\n",
      "Project Name: Midterm 2\n",
      "Project Submission Date: 05/12/2017\n"
     ]
    }
   ],
   "source": [
    "#Answer - 2\n",
    "\n",
    "import matplotlib.pyplot as plt\n",
    "import numpy as np\n",
    "\n",
    "print('Student Name: Fatih Çetin')\n",
    "print('Student ID: 2015703030')\n",
    "print('Project Name: Midterm 2')\n",
    "print('Project Submission Date: 05/12/2017')\n",
    "\n",
    "class myobject:\n",
    "    def __init__(self, name):\n",
    "        self.dependencies = []\n",
    "        self.name = name\n",
    "\n",
    "    def add_dependency(self, *myobj):\n",
    "        self.dependencies.extend(myobj)\n",
    "\n",
    "    def build(self, names=None):\n",
    "        if names is None:\n",
    "            names = []\n",
    "\n",
    "        for i in self.dependencies:\n",
    "            if i.name not in names:\n",
    "                i.build(names)\n",
    "                names.append(i.name)\n",
    "\n",
    "        return names\n",
    "\n",
    "    def __str__(self):\n",
    "        return self.name\n",
    "    \n",
    "    "
   ]
  }
 ],
 "metadata": {
  "kernelspec": {
   "display_name": "Python 3",
   "language": "python",
   "name": "python3"
  },
  "language_info": {
   "codemirror_mode": {
    "name": "ipython",
    "version": 3
   },
   "file_extension": ".py",
   "mimetype": "text/x-python",
   "name": "python",
   "nbconvert_exporter": "python",
   "pygments_lexer": "ipython3",
   "version": "3.6.2"
  }
 },
 "nbformat": 4,
 "nbformat_minor": 2
}
