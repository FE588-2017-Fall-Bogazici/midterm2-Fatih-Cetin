{
 "cells": [
  {
   "cell_type": "code",
   "execution_count": 17,
   "metadata": {},
   "outputs": [
    {
     "name": "stdout",
     "output_type": "stream",
     "text": [
      "Student Name: Fatih Çetin\n",
      "Student ID: 2015703030\n",
      "Project Name: Midterm 2\n",
      "Project Submission Date: 05/12/2017\n",
      "2z^2 3z^1 1\n",
      "[2, 3, 1]\n",
      "4z^1 4\n",
      "[4, 4]\n",
      "--------------------\n",
      "Result of p + q:\n",
      "2z^2 7z^1 5\n",
      "[2, 7, 5]\n",
      "--------------------\n",
      "Result of p - q:\n",
      "2z^2 -1z^1 -3\n",
      "[2, -1, -3]\n",
      "--------------------\n",
      "Result of p * q:\n",
      "8z^3 20z^2 16z^1 4\n",
      "[8, 20, 16, 4]\n",
      "--------------------\n"
     ]
    },
    {
     "data": {
      "image/png": "[encoded data removed]",
      "text/plain": [
       "<matplotlib.figure.Figure at 0x994c278>"
      ]
     },
     "metadata": {},
     "output_type": "display_data"
    },
    {
     "name": "stdout",
     "output_type": "stream",
     "text": [
      "The results are in the above table\n"
     ]
    },
    {
     "data": {
      "image/png": "[encoded data removed]",
      "text/plain": [
       "<matplotlib.figure.Figure at 0x978f1d0>"
      ]
     },
     "metadata": {},
     "output_type": "display_data"
    },
    {
     "name": "stdout",
     "output_type": "stream",
     "text": [
      "The results are in the above table\n"
     ]
    }
   ],
   "source": [
    "import matplotlib.pyplot as plt\n",
    "import numpy as np\n",
    "\n",
    "print('Student Name: Fatih Çetin')\n",
    "print('Student ID: 2015703030')\n",
    "print('Project Name: Midterm 2')\n",
    "print('Project Submission Date: 05/12/2017')\n",
    "\n",
    "class polynomial(object):\n",
    "    def __init__(self, c, v):\n",
    "        self.coeff = c\n",
    "        self.v = v\n",
    "        self.degree = len(c) - 1 #in order to calculate the degree of the polynomial\n",
    "    \n",
    "    def __repr__(self):\n",
    "        D = len(self.coeff)\n",
    "        for i in range(D):\n",
    "            if i<D-1:\n",
    "                print(self.coeff[i], end='')\n",
    "                print('{}^{} '.format(self.v, D-i-1), end='')\n",
    "            else:\n",
    "                print(self.coeff[i])\n",
    "        \n",
    "        return str(self.coeff)\n",
    "    \n",
    "    def __add__(self,b):\n",
    "        \"\"\"Computes a+b and returns the result\"\"\"\n",
    "        d = max(self.degree, b.degree) + 1 #to maximize length of polynomials\n",
    "        \n",
    "        self_temp =  [0]*(d-self.degree-1)+self.coeff #in order to create equal length coefficient list\n",
    "        b_temp = [0]*(d-b.degree-1)+b.coeff\n",
    "\n",
    "        coeff = []\n",
    "        for i in range(d):\n",
    "            coeff.append(self_temp[i] + b_temp[i])\n",
    "        \n",
    "        return polynomial(coeff, self.v)\n",
    "    \n",
    "    def __sub__(self,b):\n",
    "        \"\"\"Computes a-b and returns the result\"\"\"\n",
    "        d = max(self.degree, b.degree) + 1 #to maximize length of polynomials\n",
    "        \n",
    "        self_temp =  [0]*(d-self.degree-1)+self.coeff\n",
    "        b_temp = [0]*(d-b.degree-1)+b.coeff\n",
    "        \n",
    "        coeff = []\n",
    "        for i in range(d):\n",
    "            coeff.append(self_temp[i] - b_temp[i])\n",
    "        \n",
    "        return polynomial(coeff, self.v)\n",
    "    \n",
    "    def __mul__(self,b):\n",
    "        \"\"\"Computes a*b and returns the result\"\"\"\n",
    "        n = self.degree + b.degree     \n",
    "        mul_coeff = [0]*(n+1) #to reach empty list of multiplication coefficient\n",
    "        \n",
    "        for i in range(0, self.degree + 1):\n",
    "            for j in range(0, b.degree + 1):\n",
    "                mul_coeff[i+j] += self.coeff[i] * b.coeff[j]\n",
    "        \n",
    "        return polynomial(mul_coeff, self.v)\n",
    "    \n",
    "    def plot(self, number_of_points=100):\n",
    "        plot_range = round(number_of_points/2)+1 \n",
    "       \n",
    "        for i in range(plot_range):\n",
    "            plt.plot(i, np.polyval(self.coeff, i), marker='o')\n",
    "            plt.plot(-i, np.polyval(self.coeff, -i), marker='o')\n",
    "        \n",
    "        plt.show()\n",
    "\n",
    "p = polynomial([2,3,1], 'z')\n",
    "print(p)\n",
    "\n",
    "#q = polynomial([0,4,4], 'z')\n",
    "q = polynomial([4,4], 'z')\n",
    "print(q)\n",
    "\n",
    "print('--------------------')\n",
    "print('Result of p + q:')\n",
    "r1 = p + q\n",
    "print(r1)\n",
    "\n",
    "print('--------------------')\n",
    "print('Result of p - q:')\n",
    "r2 = p - q\n",
    "print(r2)\n",
    "\n",
    "print('--------------------')\n",
    "print('Result of p * q:')\n",
    "r3 = p * q\n",
    "print(r3)\n",
    "\n",
    "print('--------------------')\n",
    "# Generates a plot\n",
    "p.plot()\n",
    "print('The results are in the above table')\n",
    "q.plot()\n",
    "print('The results are in the above table')"
   ]
  }
 ],
 "metadata": {
  "kernelspec": {
   "display_name": "Python 3",
   "language": "python",
   "name": "python3"
  },
  "language_info": {
   "codemirror_mode": {
    "name": "ipython",
    "version": 3
   },
   "file_extension": ".py",
   "mimetype": "text/x-python",
   "name": "python",
   "nbconvert_exporter": "python",
   "pygments_lexer": "ipython3",
   "version": "3.6.2"
  }
 },
 "nbformat": 4,
 "nbformat_minor": 2
}
